{
 "cells": [
  {
   "cell_type": "code",
   "execution_count": 16,
   "metadata": {},
   "outputs": [
    {
     "data": {
      "text/plain": [
       "< cv2.VideoCapture 0x103a9a1f0>"
      ]
     },
     "execution_count": 16,
     "metadata": {},
     "output_type": "execute_result"
    }
   ],
   "source": [
    "import cv2\n",
    "\n",
    "video_file = 'car_video_gunja.mp4'\n",
    "video = cv2.VideoCapture(video_file)\n",
    "video"
   ]
  },
  {
   "cell_type": "code",
   "execution_count": 17,
   "metadata": {},
   "outputs": [
    {
     "name": "stdout",
     "output_type": "stream",
     "text": [
      "가로:  1080.0\n",
      "세로:  1920.0\n",
      "총 프레임수:  1795.0\n",
      "FPS: 60.0\n"
     ]
    }
   ],
   "source": [
    "#동영상 정보 \n",
    "width = video.get(cv2.CAP_PROP_FRAME_WIDTH)\n",
    "height = video.get(cv2.CAP_PROP_FRAME_HEIGHT)\n",
    "count = video.get(cv2.CAP_PROP_FRAME_COUNT)\n",
    "fps = video.get(cv2.CAP_PROP_FPS)\n",
    "\n",
    "print('가로: ', str(width))\n",
    "print('세로: ', str(height))\n",
    "print('총 프레임수: ', str(count))\n",
    "print('FPS: ' + str(fps))"
   ]
  },
  {
   "cell_type": "code",
   "execution_count": 18,
   "metadata": {},
   "outputs": [],
   "source": [
    "import os\n",
    "current_path=os.getcwd()\n",
    "make = video_file[:-4]+\"_snap\"\n",
    "try:\n",
    "    if not os.path.exists(make):\n",
    "        \n",
    "        os.makedirs(make)\n",
    "except OSError:\n",
    "    print ('Error: Creating directory. ' +  video_file[:-4])"
   ]
  },
  {
   "cell_type": "code",
   "execution_count": null,
   "metadata": {},
   "outputs": [],
   "source": [
    "for i in range(int(count)):\n",
    "    ret, frame = video.read()\n",
    "    if ret:\n",
    "        cv2.imwrite((make + \"/frame%d.jpg\" %(i)), frame)\n",
    "        print(\"Saved frame number :\", str(int(video.get(1))))\n",
    "\n",
    "# 동영상 파일 닫기\n",
    "video.release()"
   ]
  },
  {
   "cell_type": "code",
   "execution_count": null,
   "metadata": {},
   "outputs": [],
   "source": []
  }
 ],
 "metadata": {
  "kernelspec": {
   "display_name": "Python 3",
   "language": "python",
   "name": "python3"
  },
  "language_info": {
   "codemirror_mode": {
    "name": "ipython",
    "version": 3
   },
   "file_extension": ".py",
   "mimetype": "text/x-python",
   "name": "python",
   "nbconvert_exporter": "python",
   "pygments_lexer": "ipython3",
   "version": "3.11.3"
  },
  "orig_nbformat": 4
 },
 "nbformat": 4,
 "nbformat_minor": 2
}
